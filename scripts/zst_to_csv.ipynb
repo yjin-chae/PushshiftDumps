{
 "cells": [
  {
   "cell_type": "code",
   "execution_count": 1,
   "metadata": {},
   "outputs": [],
   "source": [
    "# yj.chae@rutgers.edu\n",
    "\n",
    "import pandas as pd\n",
    "import glob\n",
    "PATH = \"scripts/extracted_files/\" # Set this path to the output directory where you have extracted data\n",
    "\n",
    "extracted_comments = pd.DataFrame()\n",
    "for f in glob.glob(\"*_comments.zst\", root_dir=PATH):\n",
    "    extracted_comments = pd.concat([extracted_comments,\n",
    "                                    pd.read_json(PATH+f, lines=True, orient=\"records\")], axis=0)\n",
    "\n",
    "extracted_submissions = pd.DataFrame()\n",
    "for f in glob.glob(\"*_submissions.zst\", root_dir=PATH):\n",
    "    extracted_submissions = pd.concat([extracted_submissions,\n",
    "                                    pd.read_json(PATH+f, lines=True, orient=\"records\")], axis=0)"
   ]
  },
  {
   "cell_type": "code",
   "execution_count": 5,
   "metadata": {},
   "outputs": [],
   "source": [
    "# Save loaded data into csv\n",
    "extracted_comments.to_csv(\"scripts/extracted_files/extracted_comments.csv\", index=False)\n",
    "extracted_submissions.to_csv(\"scripts/extracted_files/extracted_submissions.csv\", index=False)"
   ]
  }
 ],
 "metadata": {
  "kernelspec": {
   "display_name": "torch2",
   "language": "python",
   "name": "python3"
  },
  "language_info": {
   "codemirror_mode": {
    "name": "ipython",
    "version": 3
   },
   "file_extension": ".py",
   "mimetype": "text/x-python",
   "name": "python",
   "nbconvert_exporter": "python",
   "pygments_lexer": "ipython3",
   "version": "3.11.3"
  }
 },
 "nbformat": 4,
 "nbformat_minor": 2
}
